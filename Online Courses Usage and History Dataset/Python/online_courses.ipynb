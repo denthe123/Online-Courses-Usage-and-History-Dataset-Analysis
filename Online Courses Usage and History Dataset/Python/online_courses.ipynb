{
 "cells": [
  {
   "cell_type": "markdown",
   "metadata": {},
   "source": [
    "# Online Courses Usage and History Dataset Analysis"
   ]
  },
  {
   "cell_type": "code",
   "execution_count": 108,
   "metadata": {},
   "outputs": [],
   "source": [
    "import pandas as pd \n",
    "import numpy as np\n",
    "import matplotlib.pyplot as plt\n",
    "import seaborn as sns"
   ]
  },
  {
   "cell_type": "code",
   "execution_count": null,
   "metadata": {},
   "outputs": [],
   "source": [
    "data = pd.read_csv(r\"C:\\Users\\ASUS\\Desktop\\Machine Learning\\Pratice Projects\\Online Courses Usage and History Dataset\\Excel\\online_courses_uses.csv\")\n",
    "data.head(1)"
   ]
  },
  {
   "cell_type": "code",
   "execution_count": null,
   "metadata": {},
   "outputs": [],
   "source": [
    "category_counts = data['Category'].value_counts()\n",
    "category_counts"
   ]
  },
  {
   "cell_type": "code",
   "execution_count": null,
   "metadata": {},
   "outputs": [],
   "source": [
    "plt.figure(figsize=(10, 6))\n",
    "category_counts.plot(kind='bar', color='skyblue')\n",
    "plt.title('Distribution of Course Categories')\n",
    "plt.xlabel('Category')\n",
    "plt.ylabel('Number of Courses')\n",
    "plt.xticks(rotation=45, ha='right')\n",
    "plt.tight_layout() "
   ]
  },
  {
   "cell_type": "code",
   "execution_count": null,
   "metadata": {},
   "outputs": [],
   "source": [
    "plt.figure(figsize=(10, 6))\n",
    "plt.hist(data['Duration (hours)'], bins=20, color='green', edgecolor='black')\n",
    "plt.title('Distribution of Course Durations')\n",
    "plt.xlabel('Duration (hours)')\n",
    "plt.ylabel('Number of Courses')\n",
    "plt.grid(True)\n",
    "plt.show()"
   ]
  },
  {
   "cell_type": "code",
   "execution_count": null,
   "metadata": {},
   "outputs": [],
   "source": [
    "plt.figure(figsize=(12, 8))\n",
    "sns.boxplot(x='Category', y='Duration (hours)', data=data, palette='Set3')\n",
    "plt.title('Course Duration by Category')\n",
    "plt.xlabel('Course Category')\n",
    "plt.ylabel('Duration (hours)')\n",
    "plt.xticks(rotation=45, ha='right')  \n",
    "plt.tight_layout()  \n",
    "plt.show()"
   ]
  },
  {
   "cell_type": "code",
   "execution_count": null,
   "metadata": {},
   "outputs": [],
   "source": [
    "plt.figure(figsize=(10, 6))\n",
    "sns.scatterplot(x='Enrolled_Students', y='Completion_Rate (%)', data=data, s=70, alpha=0.6)\n",
    "plt.title('Enrollment vs. Completion Rate')\n",
    "plt.xlabel('Number of Enrolled Students (Log Scale)')\n",
    "plt.ylabel('Completion Rate (%)')\n",
    "plt.xscale('log')  \n",
    "plt.grid(True, which='both', linestyle='--', linewidth=0.5)\n",
    "plt.tight_layout()\n",
    "plt.show()"
   ]
  },
  {
   "cell_type": "code",
   "execution_count": null,
   "metadata": {},
   "outputs": [],
   "source": [
    "avg_prices = data.groupby('Category')['Price ($)'].mean().sort_values()\n",
    "plt.figure(figsize=(12, 8))\n",
    "avg_prices.plot(kind='bar', color='green', edgecolor='black')\n",
    "plt.title('Average Course Prices by Category')\n",
    "plt.xlabel('Course Category')\n",
    "plt.ylabel('Average Price ($)')\n",
    "plt.xticks(rotation=45, ha='right')  \n",
    "plt.grid(axis='y', linestyle='--', linewidth=0.5)\n",
    "plt.tight_layout()\n",
    "plt.show()"
   ]
  },
  {
   "cell_type": "code",
   "execution_count": null,
   "metadata": {},
   "outputs": [],
   "source": [
    "courses_per_platform = data['Platform'].value_counts()\n",
    "plt.figure(figsize=(12, 8))\n",
    "courses_per_platform.plot(kind='bar', color='skyblue', edgecolor='black')\n",
    "plt.title('Number of Courses by Platform')\n",
    "plt.xlabel('Platform')\n",
    "plt.ylabel('Number of Courses')\n",
    "plt.xticks(rotation=45, ha='right') \n",
    "plt.grid(axis='y', linestyle='--', linewidth=0.5)\n",
    "plt.tight_layout()\n",
    "plt.show()"
   ]
  },
  {
   "cell_type": "code",
   "execution_count": null,
   "metadata": {},
   "outputs": [],
   "source": [
    "pivot_data = data.pivot_table(index='Category', columns='Platform', values='Enrolled_Students', aggfunc='sum').fillna(0)\n",
    "ax = pivot_data.plot(kind='bar', stacked=False, figsize=(14, 8), colormap='tab20')\n",
    "plt.title('Total Number of Enrolled Students by Category')\n",
    "plt.xlabel('Course Category')\n",
    "plt.ylabel('Total Enrolled Students')\n",
    "plt.xticks(rotation=45, ha='right') \n",
    "ax.get_yaxis().set_visible(False)\n",
    "plt.tight_layout()\n",
    "plt.show()"
   ]
  },
  {
   "cell_type": "code",
   "execution_count": null,
   "metadata": {},
   "outputs": [],
   "source": [
    "data.head()"
   ]
  },
  {
   "cell_type": "code",
   "execution_count": null,
   "metadata": {},
   "outputs": [],
   "source": [
    "price_analysis = data.groupby(['Category', 'Platform'])['Price ($)'].mean().unstack()\n",
    "plt.figure(figsize=(12, 8))\n",
    "price_analysis.plot(kind='bar', figsize=(12, 8))\n",
    "plt.title('Average Price by Category and Platform')\n",
    "plt.xlabel('Category')\n",
    "plt.ylabel('Average Price ($)')\n",
    "plt.xticks(rotation=45)\n",
    "plt.legend(title='Platform')\n",
    "plt.tight_layout()\n",
    "plt.show()"
   ]
  },
  {
   "cell_type": "code",
   "execution_count": null,
   "metadata": {},
   "outputs": [],
   "source": [
    "rating_analysis = data.groupby(['Category', 'Platform'])['Rating (out of 5)'].mean().unstack()\n",
    "plt.figure(figsize=(12, 8))\n",
    "rating_analysis.plot(kind='bar', figsize=(12, 8))\n",
    "plt.title('Average Rating by Category and Platform')\n",
    "plt.xlabel('Category')\n",
    "plt.ylabel('Average Rating (out of 5)')\n",
    "plt.xticks(rotation=45)\n",
    "plt.legend(title='Platform')\n",
    "plt.tight_layout()\n",
    "plt.show()"
   ]
  },
  {
   "cell_type": "code",
   "execution_count": null,
   "metadata": {},
   "outputs": [],
   "source": [
    "completion_analysis = data.groupby(['Category', 'Platform'])['Completion_Rate (%)'].mean().unstack()\n",
    "plt.figure(figsize=(12, 8))\n",
    "completion_analysis.plot(kind='bar', figsize=(12, 8))\n",
    "plt.title('Average Completion Rate by Category and Platform')\n",
    "plt.xlabel('Category')\n",
    "plt.ylabel('Average Completion Rate (%)')\n",
    "plt.xticks(rotation=45)\n",
    "plt.legend(title='Platform')\n",
    "plt.tight_layout()\n",
    "plt.show()"
   ]
  }
 ],
 "metadata": {
  "kernelspec": {
   "display_name": "Python 3",
   "language": "python",
   "name": "python3"
  },
  "language_info": {
   "codemirror_mode": {
    "name": "ipython",
    "version": 3
   },
   "file_extension": ".py",
   "mimetype": "text/x-python",
   "name": "python",
   "nbconvert_exporter": "python",
   "pygments_lexer": "ipython3",
   "version": "3.12.0"
  }
 },
 "nbformat": 4,
 "nbformat_minor": 2
}
